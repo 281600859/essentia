{
 "metadata": {
  "name": "",
  "signature": "sha256:4f5bf6685386c4aa055b086c8a0527a950aa5678d1d43ed51253593552d2f0b5"
 },
 "nbformat": 3,
 "nbformat_minor": 0,
 "worksheets": [
  {
   "cells": [
    {
     "cell_type": "code",
     "collapsed": false,
     "input": [
      "print 'Hello this is Melody analysis'"
     ],
     "language": "python",
     "metadata": {},
     "outputs": [
      {
       "output_type": "stream",
       "stream": "stdout",
       "text": [
        "Hello this is Melody analysis\n"
       ]
      }
     ],
     "prompt_number": 1
    },
    {
     "cell_type": "markdown",
     "metadata": {},
     "source": [
      "This is a comment about the fantastic workshop"
     ]
    }
   ],
   "metadata": {}
  }
 ]
}